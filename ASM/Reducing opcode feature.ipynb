{
 "cells": [
  {
   "cell_type": "markdown",
   "metadata": {},
   "source": [
    "# Reducing opcode Features"
   ]
  },
  {
   "cell_type": "markdown",
   "metadata": {},
   "source": [
    "In this part, we reduce the number of opcodes whose overall frequencies are less than 500 for reducing the size of CSV"
   ]
  },
  {
   "cell_type": "markdown",
   "metadata": {},
   "source": [
    "Importing libraries"
   ]
  },
  {
   "cell_type": "code",
   "execution_count": 1,
   "metadata": {},
   "outputs": [],
   "source": [
    "import numpy as np\n",
    "import pandas as pd\n",
    "import csv"
   ]
  },
  {
   "cell_type": "markdown",
   "metadata": {},
   "source": [
    "Reading values from data_opcode. As its size is too large, it is read in the chunk of 1000 and concatenate at the end"
   ]
  },
  {
   "cell_type": "code",
   "execution_count": 2,
   "metadata": {},
   "outputs": [],
   "source": [
    "size=1000\n",
    "b=pd.read_csv('data_opcode.csv',chunksize=size)\n",
    "data_list=[]\n",
    "for i in b:\n",
    "    data_list.append(i)\n",
    "data_pd = pd.DataFrame()\n",
    "for chunk in data_list:\n",
    "    data_pd = pd.concat([data_pd,chunk])\n",
    "data_arr=data_pd.values"
   ]
  },
  {
   "cell_type": "markdown",
   "metadata": {},
   "source": [
    "In this section indexes of opcode fields extracted whose overall frequencies are less than 500"
   ]
  },
  {
   "cell_type": "code",
   "execution_count": null,
   "metadata": {},
   "outputs": [],
   "source": [
    "x=data_arr[:,0:-2]\n",
    "x=np.sum(x,axis=0)\n",
    "index_list=[]\n",
    "opcode_freq=500\n",
    "for i,j in enumerate(x):\n",
    "    if j>=opcode_freq:\n",
    "        index_list.append(i)"
   ]
  },
  {
   "cell_type": "markdown",
   "metadata": {},
   "source": [
    "In this section row for field name of CSV is created by eliminating the less frequent opcodes"
   ]
  },
  {
   "cell_type": "code",
   "execution_count": 4,
   "metadata": {},
   "outputs": [],
   "source": [
    "data_to_list=[]\n",
    "names=[]\n",
    "for i,j in enumerate(data_pd):\n",
    "    if i in index_list:\n",
    "        names.append(j)\n",
    "names.append('ID')\n",
    "names.append('LABELS')\n",
    "data_to_list.append(names)"
   ]
  },
  {
   "cell_type": "markdown",
   "metadata": {},
   "source": [
    "Here data(selected opcodes) of samples copied to data_to_list along with their names and labels"
   ]
  },
  {
   "cell_type": "code",
   "execution_count": 5,
   "metadata": {},
   "outputs": [],
   "source": [
    "for i in data_arr:\n",
    "    temp=[]\n",
    "    for j in index_list:\n",
    "        temp.append(i[j])\n",
    "            \n",
    "    temp.append(i[-2])\n",
    "    temp.append(i[-1])\n",
    "    data_to_list.append(temp)"
   ]
  },
  {
   "cell_type": "markdown",
   "metadata": {},
   "source": [
    "Saving new data to CSV"
   ]
  },
  {
   "cell_type": "code",
   "execution_count": 6,
   "metadata": {},
   "outputs": [],
   "source": [
    "myFile = open('500_reduce_opcode.csv', 'w', newline='')  \n",
    "with myFile:  \n",
    "    writer = csv.writer(myFile)\n",
    "    writer.writerows(data_to_list)"
   ]
  }
 ],
 "metadata": {
  "kernelspec": {
   "display_name": "Python 3",
   "language": "python",
   "name": "python3"
  },
  "language_info": {
   "codemirror_mode": {
    "name": "ipython",
    "version": 3
   },
   "file_extension": ".py",
   "mimetype": "text/x-python",
   "name": "python",
   "nbconvert_exporter": "python",
   "pygments_lexer": "ipython3",
   "version": "3.7.2"
  }
 },
 "nbformat": 4,
 "nbformat_minor": 2
}
