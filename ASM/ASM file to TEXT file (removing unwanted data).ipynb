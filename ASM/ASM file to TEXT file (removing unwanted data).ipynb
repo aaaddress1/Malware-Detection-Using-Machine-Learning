{
 "cells": [
  {
   "cell_type": "markdown",
   "metadata": {},
   "source": [
    "# ASM file to TEXT file (removing unwanted data)"
   ]
  },
  {
   "cell_type": "markdown",
   "metadata": {},
   "source": [
    "Importing libraries and initilizing variables"
   ]
  },
  {
   "cell_type": "code",
   "execution_count": 1,
   "metadata": {},
   "outputs": [],
   "source": [
    "from pyparsing import oneOf,Word,hexnums,Optional,WordEnd,alphas,alphanums\n",
    "import numpy as np\n",
    "\n",
    "c_files=['58kxhXouHzFd4g3rmInB','6tfw0xSL2FNHOCJBdlaA','a9oIzfw03ED4lTBCt52Y','cf4nzsoCmudt1kwleOTI','d0iHC6ANYGon7myPFzBe','da3XhOZzQEbKVtLgMYWv','fRLS3aKkijp4GH0Ds6Pv','IidxQvXrlBkWPZAfcqKT']\n",
    "\n",
    "data_path='...\\\\train\\\\'\n",
    "to_save=\"...\\\\asm_to_text\\\\\"\n",
    "\n",
    "section_list=[]\n",
    "opcode_list=[]\n",
    "files_not_parsed=[]"
   ]
  },
  {
   "cell_type": "markdown",
   "metadata": {},
   "source": [
    "Reading ID's and labels from csv"
   ]
  },
  {
   "cell_type": "code",
   "execution_count": 2,
   "metadata": {},
   "outputs": [],
   "source": [
    "malwarelist=np.genfromtxt('trainLabels.csv',delimiter=\",\",dtype=str)\n",
    "malwarelist=malwarelist[1:]"
   ]
  },
  {
   "cell_type": "markdown",
   "metadata": {},
   "source": [
    "Making an ASM file line parser"
   ]
  },
  {
   "cell_type": "code",
   "execution_count": 6,
   "metadata": {},
   "outputs": [],
   "source": [
    "hex_integer = Word(hexnums) + WordEnd()\n",
    "line = hex_integer + Optional((hex_integer*(1,))(\"instructions\") + Word(alphas,alphanums)(\"opcode\"))"
   ]
  },
  {
   "cell_type": "markdown",
   "metadata": {},
   "source": [
    "This is the main part of the code, as it takes several days to process all files so it is designed in such a way that you can run and stop this section again and again without losing any data."
   ]
  },
  {
   "cell_type": "code",
   "execution_count": 7,
   "metadata": {},
   "outputs": [],
   "source": [
    "for name in malwarelist:\n",
    "    b = \".bytes\"\n",
    "    nam=name[0].strip('\"')\n",
    "    \n",
    "\n",
    "# =========Run following commands only if you are not runing this code for the first time =========\n",
    "\n",
    "#    c_files=np.load('c_files.npy')\n",
    "#    files_not_parsed=np.load('files_not_parsed.npy')\n",
    "#    c_files=c_files.tolist()\n",
    "#    files_not_parsed=files_not_parsed.tolist()\n",
    "#    section_list=np.load('sect_list.npy')\n",
    "#    opcode_list=np.load('opc_list.npy')\n",
    "#    section_list=section_list.tolist()\n",
    "#    opcode_list=opcode_list.tolist()\n",
    "# =================================================================================================\n",
    "\n",
    "    \n",
    "    if nam not in c_files:\n",
    "        if nam not in files_not_parsed:\n",
    "            nam=str(nam)\n",
    "            nam_asm=data_path+nam+\".asm\"\n",
    "            nam_txt=to_save+nam+\".txt\"\n",
    "            asm_list=[]\n",
    "            try:\n",
    "                with open(nam_asm,encoding='ISO-8859-1') as f:\n",
    "                    lines=f.readlines()\n",
    "                    for source_line in lines:\n",
    "                        if source_line==\"\\n\":\n",
    "                            continue        \n",
    "                        section=source_line[:source_line.find(':')+1]\n",
    "                        if section not in section_list:\n",
    "                            section_list.append(str(section))   \n",
    "                        result = line.parseString(source_line[source_line.find(':')+1:])\n",
    "                        if \"opcode\" in result:\n",
    "                            opcod=result.opcode\n",
    "                            x=section+' '+opcod\n",
    "                            asm_list.append(x)\n",
    "                            if opcod not in opcode_list:\n",
    "                                opcode_list.append(str(result.opcode))\n",
    "                with open(nam_txt, \"a\") as file_prime:\n",
    "                    for i in asm_list:\n",
    "                        file_prime.write(str(i)+ '\\n')\n",
    "                        \n",
    "                c_files.append(nam) \n",
    "            except:\n",
    "                files_not_parsed.append(nam)\n",
    "                \n",
    "    np.save('c_files.npy',c_files)\n",
    "    np.save('files_not_parsed.npy',files_not_parsed)\n",
    "    np.save('sect_list.npy', section_list)\n",
    "    np.save('opc_list.npy', opcode_list)"
   ]
  },
  {
   "cell_type": "markdown",
   "metadata": {},
   "source": [
    "Note: We also parsed the files individually that are not parsed according to this scheme and update the sect_list and opc_list. You are given the updated sect_list and opc_list."
   ]
  }
 ],
 "metadata": {
  "kernelspec": {
   "display_name": "Python 3",
   "language": "python",
   "name": "python3"
  },
  "language_info": {
   "codemirror_mode": {
    "name": "ipython",
    "version": 3
   },
   "file_extension": ".py",
   "mimetype": "text/x-python",
   "name": "python",
   "nbconvert_exporter": "python",
   "pygments_lexer": "ipython3",
   "version": "3.7.2"
  }
 },
 "nbformat": 4,
 "nbformat_minor": 2
}
