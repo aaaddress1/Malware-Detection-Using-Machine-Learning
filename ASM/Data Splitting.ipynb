{
 "cells": [
  {
   "cell_type": "markdown",
   "metadata": {},
   "source": [
    "# Data Splitting"
   ]
  },
  {
   "cell_type": "markdown",
   "metadata": {},
   "source": [
    "In this code same splitting is done as with images data. Same samples are put in validation, test, train and train full CSV as in the case of images dataset."
   ]
  },
  {
   "cell_type": "code",
   "execution_count": 1,
   "metadata": {},
   "outputs": [],
   "source": [
    "import numpy as np\n",
    "import csv"
   ]
  },
  {
   "cell_type": "markdown",
   "metadata": {},
   "source": [
    "Initializing the variables"
   ]
  },
  {
   "cell_type": "code",
   "execution_count": 2,
   "metadata": {},
   "outputs": [],
   "source": [
    "path_tr='data_to_tra.csv'\n",
    "path_futr='data_to_traFull.csv'\n",
    "path_te='data_to_test.csv'\n",
    "path_val='data_to_val.csv'\n",
    "path_opc='500_reduce_opcode.csv'"
   ]
  },
  {
   "cell_type": "markdown",
   "metadata": {},
   "source": [
    "Reading the data from CSV"
   ]
  },
  {
   "cell_type": "code",
   "execution_count": 3,
   "metadata": {},
   "outputs": [],
   "source": [
    "original=np.genfromtxt(path_opc,delimiter=\",\",dtype=str)"
   ]
  },
  {
   "cell_type": "markdown",
   "metadata": {},
   "source": [
    "Making training data CSV"
   ]
  },
  {
   "cell_type": "code",
   "execution_count": 4,
   "metadata": {},
   "outputs": [],
   "source": [
    "temp=np.genfromtxt(path_tr,delimiter=\",\",dtype=str)\n",
    "\n",
    "to_csv=[]\n",
    "\n",
    "to_csv.append(original[0].tolist())\n",
    "\n",
    "for i in original:\n",
    "    if i[-2] in temp[:,-2]:\n",
    "        to_csv.append(i.tolist())\n",
    "\n",
    "myFile = open('n_500_data_to_tra.csv', 'w', newline='')  \n",
    "\n",
    "with myFile:  \n",
    "    writer = csv.writer(myFile)\n",
    "    writer.writerows(to_csv)"
   ]
  },
  {
   "cell_type": "markdown",
   "metadata": {},
   "source": [
    "Making train full data CSV"
   ]
  },
  {
   "cell_type": "code",
   "execution_count": 5,
   "metadata": {},
   "outputs": [],
   "source": [
    "temp=np.genfromtxt(path_futr,delimiter=\",\",dtype=str)\n",
    "\n",
    "to_csv=[]\n",
    "\n",
    "to_csv.append(original[0].tolist())\n",
    "\n",
    "for i in original:\n",
    "    if i[-2] in temp[:,-2]:\n",
    "        to_csv.append(i.tolist())\n",
    "\n",
    "myFile = open('n_500_data_to_traFull.csv', 'w', newline='')  \n",
    "\n",
    "with myFile:  \n",
    "    writer = csv.writer(myFile)\n",
    "    writer.writerows(to_csv)"
   ]
  },
  {
   "cell_type": "markdown",
   "metadata": {},
   "source": [
    "Making test CSV"
   ]
  },
  {
   "cell_type": "code",
   "execution_count": 6,
   "metadata": {},
   "outputs": [],
   "source": [
    "temp=np.genfromtxt(path_te,delimiter=\",\",dtype=str)\n",
    "\n",
    "to_csv=[]\n",
    "\n",
    "to_csv.append(original[0].tolist())\n",
    "\n",
    "for i in original:\n",
    "    if i[-2] in temp[:,-2]:\n",
    "        to_csv.append(i.tolist())\n",
    "\n",
    "myFile = open('n_500_data_to_test.csv', 'w', newline='')  \n",
    "\n",
    "with myFile:  \n",
    "    writer = csv.writer(myFile)\n",
    "    writer.writerows(to_csv)"
   ]
  },
  {
   "cell_type": "markdown",
   "metadata": {},
   "source": [
    "Making validation CSV"
   ]
  },
  {
   "cell_type": "code",
   "execution_count": 7,
   "metadata": {},
   "outputs": [],
   "source": [
    "temp=np.genfromtxt(path_val,delimiter=\",\",dtype=str)\n",
    "\n",
    "to_csv=[]\n",
    "\n",
    "to_csv.append(original[0].tolist())\n",
    "\n",
    "for i in original:\n",
    "    if i[-2] in temp[:,-2]:\n",
    "        to_csv.append(i.tolist())\n",
    "\n",
    "myFile = open('n_500_data_to_val.csv', 'w', newline='')  \n",
    "\n",
    "with myFile:  \n",
    "    writer = csv.writer(myFile)\n",
    "    writer.writerows(to_csv)"
   ]
  }
 ],
 "metadata": {
  "kernelspec": {
   "display_name": "Python 3",
   "language": "python",
   "name": "python3"
  },
  "language_info": {
   "codemirror_mode": {
    "name": "ipython",
    "version": 3
   },
   "file_extension": ".py",
   "mimetype": "text/x-python",
   "name": "python",
   "nbconvert_exporter": "python",
   "pygments_lexer": "ipython3",
   "version": "3.7.2"
  }
 },
 "nbformat": 4,
 "nbformat_minor": 2
}
