{
 "cells": [
  {
   "cell_type": "markdown",
   "metadata": {},
   "source": [
    "# Opcode frequency Count based CSV data"
   ]
  },
  {
   "cell_type": "markdown",
   "metadata": {},
   "source": [
    "The purpose of this code is to make CSV data that contain the frequency count of all opcode against each sample"
   ]
  },
  {
   "cell_type": "markdown",
   "metadata": {},
   "source": [
    "Importing libraries and initializing varivables"
   ]
  },
  {
   "cell_type": "code",
   "execution_count": 1,
   "metadata": {},
   "outputs": [],
   "source": [
    "import numpy as np\n",
    "import string\n",
    "import csv\n",
    "\n",
    "c_files=['58kxhXouHzFd4g3rmInB','6tfw0xSL2FNHOCJBdlaA','a9oIzfw03ED4lTBCt52Y','cf4nzsoCmudt1kwleOTI','d0iHC6ANYGon7myPFzBe','da3XhOZzQEbKVtLgMYWv','fRLS3aKkijp4GH0Ds6Pv','IidxQvXrlBkWPZAfcqKT']\n",
    "path = '..//asm_to_text//'\n"
   ]
  },
  {
   "cell_type": "markdown",
   "metadata": {},
   "source": [
    "Reading ID's and Labels from CSV"
   ]
  },
  {
   "cell_type": "code",
   "execution_count": 2,
   "metadata": {},
   "outputs": [],
   "source": [
    "malwarelist=np.genfromtxt('trainLabels.csv',delimiter=\",\",dtype=str)\n",
    "malwarelist=malwarelist[1:]"
   ]
  },
  {
   "cell_type": "markdown",
   "metadata": {},
   "source": [
    "Making the first row that will be the field names in the CSV"
   ]
  },
  {
   "cell_type": "code",
   "execution_count": 3,
   "metadata": {},
   "outputs": [],
   "source": [
    "opc=np.load('opc_list.npy')\n",
    "opc=opc.tolist()\n",
    "opc.append('ID')\n",
    "opc.append('LABEL')\n",
    "data_to_write=[]\n",
    "data_to_write.append(opc)"
   ]
  },
  {
   "cell_type": "markdown",
   "metadata": {},
   "source": [
    "This is the main section of the code that read text files and counts frequencies of different opcounts in each sample and stores them to the data_to_write list along with their ID's and labels "
   ]
  },
  {
   "cell_type": "code",
   "execution_count": 4,
   "metadata": {},
   "outputs": [],
   "source": [
    "for name in malwarelist: \n",
    "    \n",
    "    nam=name[0].strip('\"')\n",
    "    nam=str(nam)\n",
    "    count=count+1\n",
    "    print(nam,' ',count)\n",
    "    temp=[0]*len(opc)    \n",
    "    nam=path+nam+\".txt\"\n",
    "    if name[0].strip('\"') not in wrong: \n",
    "        with open(nam) as f:\n",
    "            lis=f.readlines()\n",
    "            for source_lin in lis:\n",
    "                if source_lin==\"\\n\":\n",
    "                    continue    \n",
    "                opco=source_lin[source_lin.find(':')+2:source_lin.find('\\\\')]         \n",
    "                temp[opc.index(opco)]=temp[opc.index(opco)]+1\n",
    "#=================In case of section use this=============================================\n",
    "#                section=source_lin[:source_lin.find(':')+1]\n",
    "#                section=section.translate({ord(c): None for c in string.whitespace})\n",
    "#========================================================================================\n",
    "            temp[opc.index('ID')]=name[0].strip('\"')\n",
    "            temp[opc.index('LABEL')]=name[1]\n",
    "    data_to_write.append(temp)"
   ]
  },
  {
   "cell_type": "markdown",
   "metadata": {},
   "source": [
    "In this section, CSV is generated"
   ]
  },
  {
   "cell_type": "code",
   "execution_count": 6,
   "metadata": {},
   "outputs": [],
   "source": [
    "myFile = open('data_opcode.csv', 'w', newline='')  \n",
    "with myFile:  \n",
    "    writer = csv.writer(myFile)\n",
    "    writer.writerows(data_to_write)"
   ]
  }
 ],
 "metadata": {
  "kernelspec": {
   "display_name": "Python 3",
   "language": "python",
   "name": "python3"
  },
  "language_info": {
   "codemirror_mode": {
    "name": "ipython",
    "version": 3
   },
   "file_extension": ".py",
   "mimetype": "text/x-python",
   "name": "python",
   "nbconvert_exporter": "python",
   "pygments_lexer": "ipython3",
   "version": "3.7.2"
  }
 },
 "nbformat": 4,
 "nbformat_minor": 2
}
