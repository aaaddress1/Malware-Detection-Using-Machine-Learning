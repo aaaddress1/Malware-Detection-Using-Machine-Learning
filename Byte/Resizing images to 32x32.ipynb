{
 "cells": [
  {
   "cell_type": "markdown",
   "metadata": {},
   "source": [
    "# Resizing images to 32x32"
   ]
  },
  {
   "cell_type": "markdown",
   "metadata": {},
   "source": [
    "Importing libraries"
   ]
  },
  {
   "cell_type": "code",
   "execution_count": 1,
   "metadata": {},
   "outputs": [],
   "source": [
    "from PIL import Image\n",
    "import numpy as np"
   ]
  },
  {
   "cell_type": "markdown",
   "metadata": {},
   "source": [
    "Reading data from CSV"
   ]
  },
  {
   "cell_type": "code",
   "execution_count": 2,
   "metadata": {},
   "outputs": [],
   "source": [
    "malwarelist=np.genfromtxt('trainLabels.csv',delimiter=\",\",dtype=str)\n",
    "malwarelist=malwarelist[1:]"
   ]
  },
  {
   "cell_type": "markdown",
   "metadata": {},
   "source": [
    "Setting paths"
   ]
  },
  {
   "cell_type": "code",
   "execution_count": 3,
   "metadata": {},
   "outputs": [],
   "source": [
    "destination='....\\\\resize images\\\\'\n",
    "folder='....\\\\images\\\\'"
   ]
  },
  {
   "cell_type": "markdown",
   "metadata": {},
   "source": [
    "Below code reads actual images and resize them to 32x32 using BICUBIC interpolation, whereas corrupted file names stored in the c_files list variable"
   ]
  },
  {
   "cell_type": "code",
   "execution_count": 4,
   "metadata": {},
   "outputs": [],
   "source": [
    "c_files=['58kxhXouHzFd4g3rmInB','6tfw0xSL2FNHOCJBdlaA','a9oIzfw03ED4lTBCt52Y','cf4nzsoCmudt1kwleOTI','d0iHC6ANYGon7myPFzBe','da3XhOZzQEbKVtLgMYWv','fRLS3aKkijp4GH0Ds6Pv','IidxQvXrlBkWPZAfcqKT']\n",
    "for name in malwarelist:\n",
    "    b = \".bytes\"\n",
    "    nam=name[0].strip('\"')\n",
    "    if nam not in c_files:\n",
    "        loc = folder+nam + b\n",
    "        img=Image.open(folder+nam+\".png\")\n",
    "        img = img.resize((32, 32), Image.BICUBIC)\n",
    "        img.save(destination+nam+\".png\")"
   ]
  }
 ],
 "metadata": {
  "kernelspec": {
   "display_name": "Python 3",
   "language": "python",
   "name": "python3"
  },
  "language_info": {
   "codemirror_mode": {
    "name": "ipython",
    "version": 3
   },
   "file_extension": ".py",
   "mimetype": "text/x-python",
   "name": "python",
   "nbconvert_exporter": "python",
   "pygments_lexer": "ipython3",
   "version": "3.7.2"
  }
 },
 "nbformat": 4,
 "nbformat_minor": 2
}
