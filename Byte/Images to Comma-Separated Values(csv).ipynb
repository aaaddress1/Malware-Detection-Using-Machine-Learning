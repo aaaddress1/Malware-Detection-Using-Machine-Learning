{
 "cells": [
  {
   "cell_type": "markdown",
   "metadata": {},
   "source": [
    "# Images to Comma-Separated Values(csv)"
   ]
  },
  {
   "cell_type": "markdown",
   "metadata": {},
   "source": [
    "Importing libraries"
   ]
  },
  {
   "cell_type": "code",
   "execution_count": 1,
   "metadata": {},
   "outputs": [],
   "source": [
    "from PIL import Image\n",
    "import numpy as np\n",
    "import csv"
   ]
  },
  {
   "cell_type": "markdown",
   "metadata": {},
   "source": [
    "Reading IDs and labels from csv"
   ]
  },
  {
   "cell_type": "code",
   "execution_count": 2,
   "metadata": {},
   "outputs": [],
   "source": [
    "malwarelist=np.genfromtxt('trainLabels.csv',delimiter=\",\",dtype=str)\n",
    "malwarelist=malwarelist[1:]"
   ]
  },
  {
   "cell_type": "markdown",
   "metadata": {},
   "source": [
    "Path to resized images(32x32) "
   ]
  },
  {
   "cell_type": "code",
   "execution_count": 3,
   "metadata": {},
   "outputs": [],
   "source": [
    "folder='...\\\\resize images\\\\'"
   ]
  },
  {
   "cell_type": "markdown",
   "metadata": {},
   "source": [
    "Below code read the images and then flatten their values(i.e. 32x32=1024). These values stored in the data_to_write list against their IDs and labels"
   ]
  },
  {
   "cell_type": "code",
   "execution_count": 5,
   "metadata": {},
   "outputs": [],
   "source": [
    "c_files=['58kxhXouHzFd4g3rmInB','6tfw0xSL2FNHOCJBdlaA','a9oIzfw03ED4lTBCt52Y','cf4nzsoCmudt1kwleOTI','d0iHC6ANYGon7myPFzBe','da3XhOZzQEbKVtLgMYWv','fRLS3aKkijp4GH0Ds6Pv','IidxQvXrlBkWPZAfcqKT']\n",
    "data_to_write=[]\n",
    "for name in malwarelist:\n",
    "    b = \".bytes\"\n",
    "    nam=name[0].strip('\"')\n",
    "    if nam not in c_files:\n",
    "        loc = folder+nam + b\n",
    "        img = np.asarray(Image.open(folder+nam+\".png\"))\n",
    "        img = img.flatten()\n",
    "        img= img.tolist()\n",
    "        img.append(nam)\n",
    "        img.append(name[1])\n",
    "        data_to_write.append(img)"
   ]
  },
  {
   "cell_type": "markdown",
   "metadata": {},
   "source": [
    "Following commands generate the CSV from the values store in data_to_write list"
   ]
  },
  {
   "cell_type": "code",
   "execution_count": 8,
   "metadata": {},
   "outputs": [],
   "source": [
    "myFile = open('data_new.csv', 'w', newline='')  \n",
    "with myFile:  \n",
    "    writer = csv.writer(myFile)\n",
    "    writer.writerows(data_to_write)"
   ]
  }
 ],
 "metadata": {
  "kernelspec": {
   "display_name": "Python 3",
   "language": "python",
   "name": "python3"
  },
  "language_info": {
   "codemirror_mode": {
    "name": "ipython",
    "version": 3
   },
   "file_extension": ".py",
   "mimetype": "text/x-python",
   "name": "python",
   "nbconvert_exporter": "python",
   "pygments_lexer": "ipython3",
   "version": "3.7.2"
  }
 },
 "nbformat": 4,
 "nbformat_minor": 2
}
