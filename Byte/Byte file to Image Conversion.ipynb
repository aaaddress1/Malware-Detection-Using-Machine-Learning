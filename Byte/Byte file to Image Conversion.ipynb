{
 "cells": [
  {
   "cell_type": "markdown",
   "metadata": {},
   "source": [
    "# Byte Files to Image Conversion"
   ]
  },
  {
   "cell_type": "markdown",
   "metadata": {},
   "source": [
    "Importing libraries "
   ]
  },
  {
   "cell_type": "code",
   "execution_count": 1,
   "metadata": {},
   "outputs": [],
   "source": [
    "from PIL import Image\n",
    "import numpy"
   ]
  },
  {
   "cell_type": "markdown",
   "metadata": {},
   "source": [
    "Fixing the width of images. As each byte file size varies so, we have to fix either its width or height for better visualization "
   ]
  },
  {
   "cell_type": "code",
   "execution_count": 3,
   "metadata": {},
   "outputs": [],
   "source": [
    "width = 1366"
   ]
  },
  {
   "cell_type": "markdown",
   "metadata": {},
   "source": [
    "Reading the data (names and labels) from csv"
   ]
  },
  {
   "cell_type": "code",
   "execution_count": 4,
   "metadata": {},
   "outputs": [],
   "source": [
    "malwarelist=np.genfromtxt('trainLabels.csv',delimiter=\",\",dtype=str)\n",
    "malwarelist=malwarelist[1:]"
   ]
  },
  {
   "cell_type": "markdown",
   "metadata": {},
   "source": [
    "Giving a path where to store images and from where to pick byte files "
   ]
  },
  {
   "cell_type": "code",
   "execution_count": 5,
   "metadata": {},
   "outputs": [],
   "source": [
    "destination='...\\\\images...\\\\'\n",
    "folder='...\\\\byte files....\\\\'"
   ]
  },
  {
   "cell_type": "markdown",
   "metadata": {},
   "source": [
    "The following piece of code does the actual work. It opens each byte file, then read each record(row) and converts hexadecimal to decimal with act as a pixel value of the image. Image is formed using Pillow library by keeping fixed width As some of the byte files are corrupted, so a check is made to store these files name for removing them from actual data."
   ]
  },
  {
   "cell_type": "code",
   "execution_count": 6,
   "metadata": {},
   "outputs": [],
   "source": [
    "corrupted_files=[]\n",
    "for name in malwarelist:\n",
    "    b = \".bytes\"\n",
    "    nam=name[0].strip('\"')\n",
    "    loc = folder+nam + b\n",
    "    hexar = []\n",
    "    with open(loc, 'rb') as f: \n",
    "        for line in f:\n",
    "            hexar.extend(int(el, 16) for el in line.split()[1:] if el != b'??')\n",
    "    print(len(hexar)) \n",
    "    if len(hexar)!=0:\n",
    "        rn = len(hexar) // width\n",
    "        fh = numpy.reshape(hexar[:rn * width], (-1, width))\n",
    "        fh=  np.uint8(fh)\n",
    "        print(nam,'  ',fh.shape)\n",
    "        img = Image.fromarray(fh)\n",
    "        img.save(destination+nam+\".png\")\n",
    "    if len(hexar)==0:\n",
    "        corrupted_files.append(nam)"
   ]
  }
 ],
 "metadata": {
  "kernelspec": {
   "display_name": "Python 3",
   "language": "python",
   "name": "python3"
  },
  "language_info": {
   "codemirror_mode": {
    "name": "ipython",
    "version": 3
   },
   "file_extension": ".py",
   "mimetype": "text/x-python",
   "name": "python",
   "nbconvert_exporter": "python",
   "pygments_lexer": "ipython3",
   "version": "3.7.2"
  }
 },
 "nbformat": 4,
 "nbformat_minor": 2
}
