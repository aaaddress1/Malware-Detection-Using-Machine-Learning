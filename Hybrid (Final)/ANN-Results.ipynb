{
 "cells": [
  {
   "cell_type": "markdown",
   "metadata": {},
   "source": [
    "# ANN-Results"
   ]
  },
  {
   "cell_type": "markdown",
   "metadata": {},
   "source": [
    "Final results of the proposed methodology obtain by running the following code. It is executed 10 ten times to check the stability of the model(you can also use a loop)."
   ]
  },
  {
   "cell_type": "markdown",
   "metadata": {},
   "source": [
    "Importing libraries"
   ]
  },
  {
   "cell_type": "code",
   "execution_count": 1,
   "metadata": {},
   "outputs": [],
   "source": [
    "from final_hybrid_csv import CSV_READER\n",
    "from ann_hybrid import ANN\n",
    "import torch\n",
    "import torch.nn as nn\n",
    "import torch.utils.data as data\n",
    "import numpy as np\n",
    "from sklearn.metrics import confusion_matrix\n",
    "from sklearn.preprocessing import label_binarize"
   ]
  },
  {
   "cell_type": "markdown",
   "metadata": {},
   "source": [
    "Checking the availablity of the GPU"
   ]
  },
  {
   "cell_type": "code",
   "execution_count": 2,
   "metadata": {},
   "outputs": [],
   "source": [
    "device = torch.device('cuda:0' if torch.cuda.is_available() else 'cpu')\n",
    "if torch.cuda.is_available(): \n",
    "    print(\"gpu available\")"
   ]
  },
  {
   "cell_type": "markdown",
   "metadata": {},
   "source": [
    "Setting the optimize parameters that we got in the optimization phase"
   ]
  },
  {
   "cell_type": "code",
   "execution_count": 3,
   "metadata": {},
   "outputs": [],
   "source": [
    "num_epochs,num_classes,batch_size,learning_rate,w_decay = 10, 9,50,0.001,0.001"
   ]
  },
  {
   "cell_type": "markdown",
   "metadata": {},
   "source": [
    "Reading the train and test hybrid data"
   ]
  },
  {
   "cell_type": "code",
   "execution_count": 5,
   "metadata": {},
   "outputs": [],
   "source": [
    "train_path='n_final_hybrid_full_train.csv'\n",
    "test_path='n_final_hybrid_test.csv'\n",
    "\n",
    "train_data = CSV_READER(train_path)\n",
    "test_data = CSV_READER(test_path)\n",
    "test_size = len(test_data)\n",
    "\n",
    "train_data_loader = data.DataLoader(train_data, batch_size=batch_size,shuffle=True)\n",
    "test_data_loader  = data.DataLoader(test_data, batch_size=test_size, shuffle=True) "
   ]
  },
  {
   "cell_type": "markdown",
   "metadata": {},
   "source": [
    "Creating the model, defining the loss and optimizer"
   ]
  },
  {
   "cell_type": "code",
   "execution_count": 6,
   "metadata": {},
   "outputs": [],
   "source": [
    "model=ANN().to(device)\n",
    "criterion = nn.CrossEntropyLoss()\n",
    "optimizer = torch.optim.Adam(model.parameters(), lr=learning_rate,weight_decay=w_decay)"
   ]
  },
  {
   "cell_type": "markdown",
   "metadata": {},
   "source": [
    "Training a model to the defined number of epochs"
   ]
  },
  {
   "cell_type": "code",
   "execution_count": 7,
   "metadata": {},
   "outputs": [],
   "source": [
    "for epoch in range(num_epochs):\n",
    "\n",
    "    for i, (images,labels) in enumerate(train_data_loader):\n",
    "        images = images.to(device)\n",
    "        labels = labels.to(device)\n",
    "        outputs = model(images)\n",
    "        _, predicted = torch.max(outputs[:,0].data, 1)\n",
    "        loss = criterion(outputs[:,0], labels)\n",
    "        x=np.array((predicted==labels).cpu())\n",
    "        optimizer.zero_grad() \n",
    "        loss.backward()\n",
    "        optimizer.step()"
   ]
  },
  {
   "cell_type": "markdown",
   "metadata": {},
   "source": [
    "Doing the test phase and printing loss and accuracy"
   ]
  },
  {
   "cell_type": "code",
   "execution_count": 8,
   "metadata": {},
   "outputs": [],
   "source": [
    "for y,(images,labels) in enumerate(test_data_loader):\n",
    "    images=images.to(device)\n",
    "    labels=labels.to(device)\n",
    "    outputs=model(images)\n",
    "    _, predicted = torch.max(outputs[:,0].data, 1)\n",
    "    test_loss = criterion(outputs[:,0], labels)\n",
    "    test_x=np.array((predicted==labels).cpu())\n",
    "    print(\"Test_loss=\"+str(test_loss.item())+\" Test_acc=\"+str((sum(test_x))*100/len(test_x)))"
   ]
  },
  {
   "cell_type": "markdown",
   "metadata": {},
   "source": [
    "Generating the confusion matrix"
   ]
  },
  {
   "cell_type": "code",
   "execution_count": 9,
   "metadata": {},
   "outputs": [],
   "source": [
    "test_labels_bin=label_binarize(labels.cpu(),classes=[0,1,2,3,4,5,6,7,8])\n",
    "cm=confusion_matrix(labels.cpu(),predicted.cpu())\n",
    "print(cm)"
   ]
  },
  {
   "cell_type": "markdown",
   "metadata": {},
   "source": [
    "Note:- For doing the optimization of ANN we use the following code:\n",
    "\n",
    "\n",
    "\n",
    "\n",
    "from final_hybrid_csv import CSV_READER\n",
    "from ann_hybrid import ANN\n",
    "import torch\n",
    "import torch.nn as nn\n",
    "import torch.utils.data as data\n",
    "import numpy as np\n",
    "\n",
    "\n",
    "\n",
    "device = torch.device('cuda:0' if torch.cuda.is_available() else 'cpu')\n",
    "if torch.cuda.is_available(): \n",
    "    print(\"gpu availible\")\n",
    "\n",
    "\n",
    "num_epochs,num_classes,batch_size,learning_rate = 10, 9,50,0.001\n",
    "\n",
    "\n",
    "train_path='n_final_hybrid_train.csv'\n",
    "val_path='n_final_hybrid_valid.csv'\n",
    "\n",
    "\n",
    "\n",
    "\n",
    "train_data = CSV_READER(train_path)\n",
    "val_data = CSV_READER(val_path)\n",
    "val_size = len(val_data)\n",
    "\n",
    "train_data_loader = data.DataLoader(train_data, batch_size=batch_size,shuffle=True)\n",
    "val_data_loader  = data.DataLoader(val_data, batch_size=val_size, shuffle=True) \n",
    "\n",
    "model=ANN().to(device)\n",
    "\n",
    "\n",
    "criterion = nn.CrossEntropyLoss()\n",
    "\n",
    "path_to_checkpoint='.../_optimize/'\n",
    "\n",
    "check_name='checkpoint.pth.tar'\n",
    "\n",
    "\n",
    "\n",
    "optimizer = torch.optim.Adam(model.parameters(), lr=learning_rate,weight_decay=0.001)\n",
    "\n",
    "\n",
    "def save_checkpoint(state, is_best, filename,loss):\n",
    "    if is_best:\n",
    "        print (\"=> Saving a new lowest loss : \"+str(loss))\n",
    "        torch.save(state, filename)  # save checkpoint\n",
    "\n",
    "\n",
    "total_step = len(train_data_loader)\n",
    "lowest_loss=0.200\n",
    "checkpoint_step= int(total_step/8)\n",
    "\n",
    "\n",
    "for epoch in range(num_epochs):\n",
    "\n",
    "    for i, (images,labels) in enumerate(train_data_loader):\n",
    "        images = images.to(device)\n",
    "        labels = labels.to(device)\n",
    "    \n",
    "        # Forward pass\n",
    "        outputs = model(images)\n",
    "\n",
    "        _, predicted = torch.max(outputs[:,0].data, 1)\n",
    "    \n",
    "        loss = criterion(outputs[:,0], labels)\n",
    " \n",
    "        x=np.array((predicted==labels).cpu())\n",
    "        # Backward and optimize\n",
    "        optimizer.zero_grad() \n",
    "        loss.backward()\n",
    "        optimizer.step()\n",
    "        val_loss_list=[]\n",
    "        val_acc_list =[]\n",
    "        \n",
    "        for y,(images,labels) in enumerate(val_data_loader):\n",
    "            images=images.to(device)\n",
    "            labels=labels.to(device)\n",
    "            outputs=model(images)\n",
    "            _, predicted = torch.max(outputs[:,0].data, 1)\n",
    "            val_loss = criterion(outputs[:,0], labels)\n",
    "            val_loss_list.append(val_loss.item())\n",
    "            \n",
    "            val_x=np.array((predicted==labels).cpu())\n",
    "            val_acc=(sum(val_x))*100/len(val_x)\n",
    "            val_acc_list.append(val_acc)\n",
    "        mean_loss= np.mean(np.array(val_loss_list))\n",
    "        mean_acc = np.mean(np.array(val_acc_list))\n",
    "        is_best= bool(mean_loss<lowest_loss)\n",
    "        \n",
    "        if(is_best):\n",
    "            lowest_loss= min(mean_loss,lowest_loss)\n",
    "            pathe= path_to_checkpoint+str(lowest_loss)+\" \"+str(epoch+1)+\" \"+check_name\n",
    "            save_checkpoint({'epoch':epoch + 1,'state_dict': model.state_dict(),'lowest_loss': lowest_loss }, is_best,pathe,lowest_loss)\n",
    "            is_best= False\n",
    " \n",
    "        print(\"Epoch [\"+str(epoch+1)+\"/\"+str(num_epochs)+\"],Batch_no[\"+str(i+1)+\"/\"+str(total_step)+\"] \"+\"Loss:\"+str(format(loss.item(),'.4f'))+\" Acc :\"+str(format((sum(x))*100/len(x),'.4f'))+\" Val_loss:\"+str(format(mean_loss,'.4f'))+\" Val_acc:\"+str(format(mean_acc,'.0f')))\n",
    "        "
   ]
  }
 ],
 "metadata": {
  "kernelspec": {
   "display_name": "Python 3",
   "language": "python",
   "name": "python3"
  },
  "language_info": {
   "codemirror_mode": {
    "name": "ipython",
    "version": 3
   },
   "file_extension": ".py",
   "mimetype": "text/x-python",
   "name": "python",
   "nbconvert_exporter": "python",
   "pygments_lexer": "ipython3",
   "version": "3.7.2"
  }
 },
 "nbformat": 4,
 "nbformat_minor": 2
}
